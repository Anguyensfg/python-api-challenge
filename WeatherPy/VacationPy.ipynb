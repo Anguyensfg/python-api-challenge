{
 "cells": [
  {
   "cell_type": "markdown",
   "metadata": {},
   "source": [
    "# VacationPy\n",
    "----\n",
    "\n",
    "#### Note\n",
    "* Keep an eye on your API usage. Use https://developers.google.com/maps/reporting/gmp-reporting as reference for how to monitor your usage and billing.\n",
    "\n",
    "* Instructions have been included for each segment. You do not have to follow them exactly, but they are included to help you think through the steps."
   ]
  },
  {
   "cell_type": "code",
   "execution_count": 1,
   "metadata": {},
   "outputs": [],
   "source": [
    "# Dependencies and Setup\n",
    "import matplotlib.pyplot as plt\n",
    "import pandas as pd\n",
    "import numpy as np\n",
    "import requests\n",
    "import gmaps\n",
    "import os\n",
    "\n",
    "# Import API key\n",
    "from api_keys import g_key"
   ]
  },
  {
   "cell_type": "markdown",
   "metadata": {},
   "source": [
    "### Store Part I results into DataFrame\n",
    "* Load the csv exported in Part I to a DataFrame"
   ]
  },
  {
   "cell_type": "code",
   "execution_count": 2,
   "metadata": {},
   "outputs": [
    {
     "data": {
      "text/html": [
       "<div>\n",
       "<style scoped>\n",
       "    .dataframe tbody tr th:only-of-type {\n",
       "        vertical-align: middle;\n",
       "    }\n",
       "\n",
       "    .dataframe tbody tr th {\n",
       "        vertical-align: top;\n",
       "    }\n",
       "\n",
       "    .dataframe thead th {\n",
       "        text-align: right;\n",
       "    }\n",
       "</style>\n",
       "<table border=\"1\" class=\"dataframe\">\n",
       "  <thead>\n",
       "    <tr style=\"text-align: right;\">\n",
       "      <th></th>\n",
       "      <th>City_ID</th>\n",
       "      <th>City</th>\n",
       "      <th>Lat</th>\n",
       "      <th>Lng</th>\n",
       "      <th>Max Temp</th>\n",
       "      <th>Humidity</th>\n",
       "      <th>Cloudiness</th>\n",
       "      <th>Wind Speed</th>\n",
       "      <th>Country</th>\n",
       "      <th>Date</th>\n",
       "    </tr>\n",
       "  </thead>\n",
       "  <tbody>\n",
       "    <tr>\n",
       "      <th>0</th>\n",
       "      <td>0</td>\n",
       "      <td>kapaa</td>\n",
       "      <td>22.0752</td>\n",
       "      <td>-159.3190</td>\n",
       "      <td>26.99</td>\n",
       "      <td>77</td>\n",
       "      <td>40</td>\n",
       "      <td>6.17</td>\n",
       "      <td>US</td>\n",
       "      <td>1651608887</td>\n",
       "    </tr>\n",
       "    <tr>\n",
       "      <th>1</th>\n",
       "      <td>1</td>\n",
       "      <td>barrow</td>\n",
       "      <td>71.2906</td>\n",
       "      <td>-156.7887</td>\n",
       "      <td>-5.99</td>\n",
       "      <td>86</td>\n",
       "      <td>100</td>\n",
       "      <td>5.14</td>\n",
       "      <td>US</td>\n",
       "      <td>1651608707</td>\n",
       "    </tr>\n",
       "    <tr>\n",
       "      <th>2</th>\n",
       "      <td>2</td>\n",
       "      <td>busselton</td>\n",
       "      <td>-33.6500</td>\n",
       "      <td>115.3333</td>\n",
       "      <td>13.33</td>\n",
       "      <td>68</td>\n",
       "      <td>84</td>\n",
       "      <td>4.85</td>\n",
       "      <td>AU</td>\n",
       "      <td>1651608889</td>\n",
       "    </tr>\n",
       "    <tr>\n",
       "      <th>3</th>\n",
       "      <td>3</td>\n",
       "      <td>mar del plata</td>\n",
       "      <td>-38.0023</td>\n",
       "      <td>-57.5575</td>\n",
       "      <td>16.08</td>\n",
       "      <td>59</td>\n",
       "      <td>0</td>\n",
       "      <td>6.17</td>\n",
       "      <td>AR</td>\n",
       "      <td>1651608890</td>\n",
       "    </tr>\n",
       "    <tr>\n",
       "      <th>4</th>\n",
       "      <td>4</td>\n",
       "      <td>vaini</td>\n",
       "      <td>-21.2000</td>\n",
       "      <td>-175.2000</td>\n",
       "      <td>23.09</td>\n",
       "      <td>88</td>\n",
       "      <td>20</td>\n",
       "      <td>2.57</td>\n",
       "      <td>TO</td>\n",
       "      <td>1651608890</td>\n",
       "    </tr>\n",
       "  </tbody>\n",
       "</table>\n",
       "</div>"
      ],
      "text/plain": [
       "   City_ID           City      Lat       Lng  Max Temp  Humidity  Cloudiness  \\\n",
       "0        0          kapaa  22.0752 -159.3190     26.99        77          40   \n",
       "1        1         barrow  71.2906 -156.7887     -5.99        86         100   \n",
       "2        2      busselton -33.6500  115.3333     13.33        68          84   \n",
       "3        3  mar del plata -38.0023  -57.5575     16.08        59           0   \n",
       "4        4          vaini -21.2000 -175.2000     23.09        88          20   \n",
       "\n",
       "   Wind Speed Country        Date  \n",
       "0        6.17      US  1651608887  \n",
       "1        5.14      US  1651608707  \n",
       "2        4.85      AU  1651608889  \n",
       "3        6.17      AR  1651608890  \n",
       "4        2.57      TO  1651608890  "
      ]
     },
     "execution_count": 2,
     "metadata": {},
     "output_type": "execute_result"
    }
   ],
   "source": [
    "# File to Load:\n",
    "file_to_load='../output_data/cities.csv' # csv file created in part I of homework \n",
    "\n",
    "# Read csv cities file and store into data frame:\n",
    "city_data_df=pd.read_csv(file_to_load)\n",
    "\n",
    "# Display Result\n",
    "city_data_df.head()\n"
   ]
  },
  {
   "cell_type": "code",
   "execution_count": 3,
   "metadata": {},
   "outputs": [
    {
     "data": {
      "text/plain": [
       "City_ID       551\n",
       "City          551\n",
       "Lat           551\n",
       "Lng           551\n",
       "Max Temp      551\n",
       "Humidity      551\n",
       "Cloudiness    551\n",
       "Wind Speed    551\n",
       "Country       548\n",
       "Date          551\n",
       "dtype: int64"
      ]
     },
     "execution_count": 3,
     "metadata": {},
     "output_type": "execute_result"
    }
   ],
   "source": [
    "#Display result \n",
    "city_data_df.count()"
   ]
  },
  {
   "cell_type": "markdown",
   "metadata": {},
   "source": [
    "### Humidity Heatmap\n",
    "* Configure gmaps.\n",
    "* Use the Lat and Lng as locations and Humidity as the weight.\n",
    "* Add Heatmap layer to map."
   ]
  },
  {
   "cell_type": "code",
   "execution_count": 4,
   "metadata": {},
   "outputs": [
    {
     "data": {
      "text/plain": [
       "100"
      ]
     },
     "execution_count": 4,
     "metadata": {},
     "output_type": "execute_result"
    }
   ],
   "source": [
    "# Find max humidity level:\n",
    "max_hum=city_data_df['Humidity'].max()\n",
    "max_hum"
   ]
  },
  {
   "cell_type": "code",
   "execution_count": 5,
   "metadata": {},
   "outputs": [],
   "source": [
    "# Configure gmaps using API key:\n",
    "gmaps.configure(api_key=g_key)"
   ]
  },
  {
   "cell_type": "code",
   "execution_count": 6,
   "metadata": {},
   "outputs": [],
   "source": [
    "# Record 'Lat' and 'Lng' into  locations and drop all values with NaN Values: \n",
    "city_data_df=city_data_df.dropna() \n",
    "locations=city_data_df[['Lat', 'Lng']].astype(float)\n",
    "\n",
    "# Convert humidity level to float:\n",
    "humidity_rate=city_data_df['Humidity'].astype(float)"
   ]
  },
  {
   "cell_type": "code",
   "execution_count": 7,
   "metadata": {},
   "outputs": [
    {
     "data": {
      "application/vnd.jupyter.widget-view+json": {
       "model_id": "9d6143b4e8724ca6aef857043f686e87",
       "version_major": 2,
       "version_minor": 0
      },
      "text/plain": [
       "Figure(layout=FigureLayout(height='420px'))"
      ]
     },
     "metadata": {},
     "output_type": "display_data"
    }
   ],
   "source": [
    "# Add humity tracking on map:\n",
    "fig=gmaps.figure()\n",
    "\n",
    "heat_layer=gmaps.heatmap_layer(locations, weights=humidity_rate, \n",
    "                                 dissipating=False, max_intensity=max_hum,\n",
    "                                 point_radius=3)\n",
    "\n",
    "#Display Result\n",
    "fig.add_layer(heat_layer)\n",
    "fig"
   ]
  },
  {
   "cell_type": "markdown",
   "metadata": {},
   "source": [
    "### Create new DataFrame fitting weather criteria\n",
    "* Narrow down the cities to fit weather conditions.\n",
    "* Drop any rows will null values."
   ]
  },
  {
   "cell_type": "code",
   "execution_count": 8,
   "metadata": {},
   "outputs": [
    {
     "data": {
      "text/plain": [
       "City_ID       8\n",
       "City          8\n",
       "Lat           8\n",
       "Lng           8\n",
       "Max Temp      8\n",
       "Humidity      8\n",
       "Cloudiness    8\n",
       "Wind Speed    8\n",
       "Country       8\n",
       "Date          8\n",
       "dtype: int64"
      ]
     },
     "execution_count": 8,
     "metadata": {},
     "output_type": "execute_result"
    }
   ],
   "source": [
    "# Create new datafame with parameters and remove NaN:\n",
    "city_data_narrow=city_data_df[(city_data_df['Max Temp'] < 23) &\n",
    "                             (city_data_df['Max Temp'] > 18) &\n",
    "                             (city_data_df['Wind Speed'] < 5) &\n",
    "                             (city_data_df['Cloudiness'] < 30) &\n",
    "                             (city_data_df['Humidity'] < 60)]\n",
    "city_data_narrow=city_data_narrow.dropna() \n",
    "\n",
    "# Display Result\n",
    "city_data_narrow.count()"
   ]
  },
  {
   "cell_type": "code",
   "execution_count": 9,
   "metadata": {},
   "outputs": [
    {
     "data": {
      "text/html": [
       "<div>\n",
       "<style scoped>\n",
       "    .dataframe tbody tr th:only-of-type {\n",
       "        vertical-align: middle;\n",
       "    }\n",
       "\n",
       "    .dataframe tbody tr th {\n",
       "        vertical-align: top;\n",
       "    }\n",
       "\n",
       "    .dataframe thead th {\n",
       "        text-align: right;\n",
       "    }\n",
       "</style>\n",
       "<table border=\"1\" class=\"dataframe\">\n",
       "  <thead>\n",
       "    <tr style=\"text-align: right;\">\n",
       "      <th></th>\n",
       "      <th>City_ID</th>\n",
       "      <th>City</th>\n",
       "      <th>Lat</th>\n",
       "      <th>Lng</th>\n",
       "      <th>Max Temp</th>\n",
       "      <th>Humidity</th>\n",
       "      <th>Cloudiness</th>\n",
       "      <th>Wind Speed</th>\n",
       "      <th>Country</th>\n",
       "      <th>Date</th>\n",
       "    </tr>\n",
       "  </thead>\n",
       "  <tbody>\n",
       "    <tr>\n",
       "      <th>109</th>\n",
       "      <td>109</td>\n",
       "      <td>faya</td>\n",
       "      <td>18.3851</td>\n",
       "      <td>42.4509</td>\n",
       "      <td>19.06</td>\n",
       "      <td>51</td>\n",
       "      <td>22</td>\n",
       "      <td>1.88</td>\n",
       "      <td>SA</td>\n",
       "      <td>1651608956</td>\n",
       "    </tr>\n",
       "    <tr>\n",
       "      <th>111</th>\n",
       "      <td>111</td>\n",
       "      <td>pueblo</td>\n",
       "      <td>38.2545</td>\n",
       "      <td>-104.6091</td>\n",
       "      <td>19.88</td>\n",
       "      <td>41</td>\n",
       "      <td>0</td>\n",
       "      <td>4.63</td>\n",
       "      <td>US</td>\n",
       "      <td>1651608920</td>\n",
       "    </tr>\n",
       "    <tr>\n",
       "      <th>175</th>\n",
       "      <td>175</td>\n",
       "      <td>bati</td>\n",
       "      <td>11.1833</td>\n",
       "      <td>40.0167</td>\n",
       "      <td>22.97</td>\n",
       "      <td>38</td>\n",
       "      <td>4</td>\n",
       "      <td>2.85</td>\n",
       "      <td>ET</td>\n",
       "      <td>1651608999</td>\n",
       "    </tr>\n",
       "    <tr>\n",
       "      <th>233</th>\n",
       "      <td>233</td>\n",
       "      <td>santiago del estero</td>\n",
       "      <td>-27.7951</td>\n",
       "      <td>-64.2615</td>\n",
       "      <td>21.52</td>\n",
       "      <td>31</td>\n",
       "      <td>0</td>\n",
       "      <td>1.49</td>\n",
       "      <td>AR</td>\n",
       "      <td>1651608787</td>\n",
       "    </tr>\n",
       "    <tr>\n",
       "      <th>253</th>\n",
       "      <td>253</td>\n",
       "      <td>mercedes</td>\n",
       "      <td>-34.6515</td>\n",
       "      <td>-59.4307</td>\n",
       "      <td>18.25</td>\n",
       "      <td>41</td>\n",
       "      <td>0</td>\n",
       "      <td>0.12</td>\n",
       "      <td>AR</td>\n",
       "      <td>1651609043</td>\n",
       "    </tr>\n",
       "    <tr>\n",
       "      <th>310</th>\n",
       "      <td>310</td>\n",
       "      <td>jiuquan</td>\n",
       "      <td>39.7432</td>\n",
       "      <td>98.5174</td>\n",
       "      <td>18.25</td>\n",
       "      <td>9</td>\n",
       "      <td>0</td>\n",
       "      <td>3.86</td>\n",
       "      <td>CN</td>\n",
       "      <td>1651609074</td>\n",
       "    </tr>\n",
       "  </tbody>\n",
       "</table>\n",
       "</div>"
      ],
      "text/plain": [
       "     City_ID                 City      Lat       Lng  Max Temp  Humidity  \\\n",
       "109      109                 faya  18.3851   42.4509     19.06        51   \n",
       "111      111               pueblo  38.2545 -104.6091     19.88        41   \n",
       "175      175                 bati  11.1833   40.0167     22.97        38   \n",
       "233      233  santiago del estero -27.7951  -64.2615     21.52        31   \n",
       "253      253             mercedes -34.6515  -59.4307     18.25        41   \n",
       "310      310              jiuquan  39.7432   98.5174     18.25         9   \n",
       "\n",
       "     Cloudiness  Wind Speed Country        Date  \n",
       "109          22        1.88      SA  1651608956  \n",
       "111           0        4.63      US  1651608920  \n",
       "175           4        2.85      ET  1651608999  \n",
       "233           0        1.49      AR  1651608787  \n",
       "253           0        0.12      AR  1651609043  \n",
       "310           0        3.86      CN  1651609074  "
      ]
     },
     "execution_count": 9,
     "metadata": {},
     "output_type": "execute_result"
    }
   ],
   "source": [
    "# Display Result\n",
    "city_data_narrow.head(6)"
   ]
  },
  {
   "cell_type": "code",
   "execution_count": 10,
   "metadata": {},
   "outputs": [
    {
     "name": "stdout",
     "output_type": "stream",
     "text": [
      "Beginning Data Retrieval\n",
      "-----------------------------\n",
      "Looking for Hotels near: 109 | Record 1 of Total 8\n",
      "Looking for Hotels near: 111 | Record 2 of Total 8\n",
      "No Hotel Near Location... Skipping...\n",
      "Looking for Hotels near: 175 | Record 3 of Total 8\n",
      "No Hotel Near Location... Skipping...\n",
      "Looking for Hotels near: 233 | Record 4 of Total 8\n",
      "No Hotel Near Location... Skipping...\n",
      "Looking for Hotels near: 253 | Record 5 of Total 8\n",
      "No Hotel Near Location... Skipping...\n",
      "Looking for Hotels near: 310 | Record 6 of Total 8\n",
      "No Hotel Near Location... Skipping...\n",
      "Looking for Hotels near: 332 | Record 7 of Total 8\n",
      "No Hotel Near Location... Skipping...\n",
      "Looking for Hotels near: 346 | Record 8 of Total 8\n",
      "No Hotel Near Location... Skipping...\n",
      "-------------------------------\n",
      "Data Retrieval Complete\n",
      "-------------------------------\n"
     ]
    }
   ],
   "source": [
    "# Set up lists to hold response info:\n",
    "name=[]         # Hotel\n",
    "city=[]         # Hotel in city\n",
    "country=[]      # Hotel in Country\n",
    "lat=[]          # Hotel against latitude\n",
    "lng=[]          # Hotel against longitude\n",
    "\n",
    "# Loop through data and collate information:\n",
    "\n",
    "count=1\n",
    "\n",
    "print('Beginning Data Retrieval')     \n",
    "print('-----------------------------')\n",
    "for i in range(len(city_data_narrow)) : \n",
    "   \n",
    "    lati=str(city_data_narrow.iloc[i, 3])    \n",
    "    lngi=str(city_data_narrow.iloc[i, 4])\n",
    "    \n",
    "    target_coordinates=lati + ', ' + lngi  \n",
    "    target_search='Hotel'\n",
    "    target_radius=5000\n",
    "    target_type='lodging'\n",
    "\n",
    "    # Set dictionary:\n",
    "    params={\n",
    "        'location': target_coordinates,\n",
    "        'keyword': target_search,\n",
    "        'radius': target_radius,\n",
    "        'type': target_type,\n",
    "        'key': g_key\n",
    "    }\n",
    "\n",
    "    # Base url:\n",
    "    base_url='https://maps.googleapis.com/maps/api/place/nearbysearch/json'\n",
    "\n",
    "    # Use disctionary to process request:\n",
    "    response=requests.get(base_url, params=params)\n",
    "    \n",
    "    \n",
    "    # Convert response to json:\n",
    "    places_data=response.json()\n",
    "    \n",
    "    \n",
    "    # Print user feedback: \n",
    "    print('Looking for Hotels near: ' + str(city_data_narrow.iloc[i, 0]) + ' | Record ' + str(count) + ' of Total ' + str(len(city_data_narrow)))\n",
    "     \n",
    "    # Add requested data to  result lists:\n",
    "    try:                                             \n",
    "        name.append(places_data['results'][0]['name'])\n",
    "        city.append(city_data_narrow.iloc[i, 0])\n",
    "        country.append(city_data_narrow.iloc[i, 1])\n",
    "        lat.append(places_data['results'][0]['geometry']['location']['lat'])\n",
    "        lng.append(places_data['results'][0]['geometry']['location']['lng'])\n",
    "    except IndexError:\n",
    "        print('No Hotel Near Location... Skipping...') \n",
    "  \n",
    "    count=count+1\n",
    "    \n",
    "# Print Ending Log Statement:\n",
    "print('-------------------------------')\n",
    "print('Data Retrieval Complete')\n",
    "print('-------------------------------')"
   ]
  },
  {
   "cell_type": "code",
   "execution_count": 11,
   "metadata": {},
   "outputs": [
    {
     "data": {
      "text/plain": [
       "City          1\n",
       "Country       1\n",
       "Lat           1\n",
       "Lng           1\n",
       "Hotel Name    1\n",
       "dtype: int64"
      ]
     },
     "execution_count": 11,
     "metadata": {},
     "output_type": "execute_result"
    }
   ],
   "source": [
    "# Create a data frame:\n",
    "hotel_dict={\n",
    "    'City': city,\n",
    "    'Country': country,\n",
    "    'Lat': lat,\n",
    "    'Lng': lng,\n",
    "    'Hotel Name': name\n",
    "}\n",
    "hotel_df=pd.DataFrame(hotel_dict)\n",
    "\n",
    "# Display Result\n",
    "hotel_df.count()"
   ]
  },
  {
   "cell_type": "code",
   "execution_count": 12,
   "metadata": {},
   "outputs": [
    {
     "data": {
      "text/html": [
       "<div>\n",
       "<style scoped>\n",
       "    .dataframe tbody tr th:only-of-type {\n",
       "        vertical-align: middle;\n",
       "    }\n",
       "\n",
       "    .dataframe tbody tr th {\n",
       "        vertical-align: top;\n",
       "    }\n",
       "\n",
       "    .dataframe thead th {\n",
       "        text-align: right;\n",
       "    }\n",
       "</style>\n",
       "<table border=\"1\" class=\"dataframe\">\n",
       "  <thead>\n",
       "    <tr style=\"text-align: right;\">\n",
       "      <th></th>\n",
       "      <th>City</th>\n",
       "      <th>Country</th>\n",
       "      <th>Lat</th>\n",
       "      <th>Lng</th>\n",
       "      <th>Hotel Name</th>\n",
       "    </tr>\n",
       "  </thead>\n",
       "  <tbody>\n",
       "    <tr>\n",
       "      <th>0</th>\n",
       "      <td>109</td>\n",
       "      <td>faya</td>\n",
       "      <td>42.459555</td>\n",
       "      <td>19.115314</td>\n",
       "      <td>Komanska Utjeha</td>\n",
       "    </tr>\n",
       "  </tbody>\n",
       "</table>\n",
       "</div>"
      ],
      "text/plain": [
       "   City Country        Lat        Lng       Hotel Name\n",
       "0   109    faya  42.459555  19.115314  Komanska Utjeha"
      ]
     },
     "execution_count": 12,
     "metadata": {},
     "output_type": "execute_result"
    }
   ],
   "source": [
    "# Display Result\n",
    "hotel_df"
   ]
  },
  {
   "cell_type": "markdown",
   "metadata": {},
   "source": [
    "### Hotel Map\n",
    "* Store into variable named `hotel_df`.\n",
    "* Add a \"Hotel Name\" column to the DataFrame.\n",
    "* Set parameters to search for hotels with 5000 meters.\n",
    "* Hit the Google Places API for each city's coordinates.\n",
    "* Store the first Hotel result into the DataFrame.\n",
    "* Plot markers on top of the heatmap."
   ]
  },
  {
   "cell_type": "code",
   "execution_count": 13,
   "metadata": {},
   "outputs": [],
   "source": [
    "# Using the template add the hotel marks to the heatmap:\n",
    "info_box_template=\"\"\"\n",
    "<dl>\n",
    "<dt>Name</dt><dd>{Hotel Name}</dd>\n",
    "<dt>City</dt><dd>{City}</dd>\n",
    "<dt>Country</dt><dd>{Country}</dd>\n",
    "</dl>\n",
    "\"\"\"\n",
    "# Store the DataFrame Row:\n",
    "hotel_info=[info_box_template.format(**row) for index, row in hotel_df.iterrows()]\n",
    "locations=hotel_df[['Lat', 'Lng']]"
   ]
  },
  {
   "cell_type": "code",
   "execution_count": 14,
   "metadata": {},
   "outputs": [
    {
     "data": {
      "application/vnd.jupyter.widget-view+json": {
       "model_id": "2824de6f7e4f47c99f79a3edeb099ed9",
       "version_major": 2,
       "version_minor": 0
      },
      "text/plain": [
       "Figure(layout=FigureLayout(border='1px solid black', height='600px', margin='0 auto 0 auto', padding='1px', wi…"
      ]
     },
     "metadata": {},
     "output_type": "display_data"
    }
   ],
   "source": [
    "# Customize figures:\n",
    "figure_layout={\n",
    "    'width': '955px',\n",
    "    'height': '600px',\n",
    "    'border': '1px solid black',\n",
    "    'padding': '1px',\n",
    "    'margin': '0 auto 0 auto'\n",
    "}\n",
    "fig=gmaps.figure(layout=figure_layout)\n",
    "\n",
    "# Assign the marker layer to a variable:\n",
    "markers=gmaps.marker_layer(locations, info_box_content=hotel_info)\n",
    "\n",
    "# Add the layer to the map:\n",
    "fig.add_layer(markers)\n",
    "fig"
   ]
  },
  {
   "cell_type": "code",
   "execution_count": 15,
   "metadata": {},
   "outputs": [
    {
     "data": {
      "application/vnd.jupyter.widget-view+json": {
       "model_id": "ca3d2e195e0d4568a35e5d08d0cb9cb0",
       "version_major": 2,
       "version_minor": 0
      },
      "text/plain": [
       "Figure(layout=FigureLayout(height='420px'))"
      ]
     },
     "metadata": {},
     "output_type": "display_data"
    }
   ],
   "source": [
    "# Create a combined map:\n",
    "fig=gmaps.figure()\n",
    "\n",
    "# Add marker layer ontop of heat map\n",
    "fig.add_layer(heat_layer)\n",
    "fig.add_layer(markers)\n",
    "\n",
    "# Display figure\n",
    "fig"
   ]
  },
  {
   "cell_type": "code",
   "execution_count": null,
   "metadata": {},
   "outputs": [],
   "source": []
  }
 ],
 "metadata": {
  "kernelspec": {
   "display_name": "Python 3",
   "language": "python",
   "name": "python3"
  },
  "language_info": {
   "codemirror_mode": {
    "name": "ipython",
    "version": 3
   },
   "file_extension": ".py",
   "mimetype": "text/x-python",
   "name": "python",
   "nbconvert_exporter": "python",
   "pygments_lexer": "ipython3",
   "version": "3.6.10"
  },
  "latex_envs": {
   "LaTeX_envs_menu_present": true,
   "autoclose": false,
   "autocomplete": true,
   "bibliofile": "biblio.bib",
   "cite_by": "apalike",
   "current_citInitial": 1,
   "eqLabelWithNumbers": true,
   "eqNumInitial": 1,
   "hotkeys": {
    "equation": "Ctrl-E",
    "itemize": "Ctrl-I"
   },
   "labels_anchors": false,
   "latex_user_defs": false,
   "report_style_numbering": false,
   "user_envs_cfg": false
  }
 },
 "nbformat": 4,
 "nbformat_minor": 4
}
